{
 "cells": [
  {
   "cell_type": "code",
   "execution_count": 1,
   "id": "above-daily",
   "metadata": {},
   "outputs": [],
   "source": [
    "import numpy as np\n",
    "import tensorflow as tf\n",
    "import tensorflow_datasets as tfds"
   ]
  },
  {
   "cell_type": "code",
   "execution_count": 10,
   "id": "identical-florence",
   "metadata": {},
   "outputs": [],
   "source": [
    "mnist_df, mnist_info = tfds.load(name='mnist', with_info=True, as_supervised=True)\n",
    "\n",
    "mnist_train, mnist_test = mnist_df['train'], mnist_df['test']"
   ]
  },
  {
   "cell_type": "code",
   "execution_count": 11,
   "id": "behavioral-auckland",
   "metadata": {},
   "outputs": [],
   "source": [
    "num_validation_samples = 0.1 * mnist_info.splits['train'].num_examples\n",
    "num_validation_samples = tf.cast(num_validation_samples, tf.int64)\n",
    "\n",
    "num_test_samples = mnist_info.splits['test'].num_examples\n",
    "num_test_samples = tf.cast(num_test_samples, tf.int64)\n",
    "\n",
    "def scale(image, label):\n",
    "    image = tf.cast(image, tf.float32)\n",
    "    image = image/255.\n",
    "    return image, label\n",
    "\n",
    "scaled_train_and_validation_df = mnist_train.map(scale)\n",
    "\n",
    "scaled_test_df = mnist_test.map(scale)"
   ]
  },
  {
   "cell_type": "code",
   "execution_count": 12,
   "id": "entitled-labor",
   "metadata": {},
   "outputs": [],
   "source": [
    "BUFFER_SIZE = 10000\n",
    "\n",
    "shuffled_train_and_validation_df = scaled_train_and_validation_df.shuffle(BUFFER_SIZE)\n",
    "\n",
    "validation_data = shuffled_train_and_validation_df.take(num_validation_samples)\n",
    "train_data = shuffled_train_and_validation_df.skip(num_validation_samples)\n",
    "\n",
    "BATCH_SIZE = 100\n",
    "\n",
    "train_data = train_data.batch(BATCH_SIZE)\n",
    "validation_data = validation_data.batch(num_validation_samples)\n",
    "test_data = scaled_test_df.batch(num_test_samples)\n",
    "\n",
    "validation_inputs, validation_targets = next(iter(validation_data))"
   ]
  },
  {
   "cell_type": "code",
   "execution_count": 18,
   "id": "bacterial-combat",
   "metadata": {},
   "outputs": [],
   "source": [
    "input_size = 784\n",
    "output_size = 10\n",
    "hidden_size = 100\n",
    "\n",
    "model = tf.keras.Sequential([\n",
    "                            tf.keras.layers.Flatten(input_shape=(28,28,1)),\n",
    "                            tf.keras.layers.Dense(hidden_size, activation ='relu'),\n",
    "                            tf.keras.layers.Dense(hidden_size, activation ='relu'),\n",
    "                            tf.keras.layers.Dense(output_size, activation = 'softmax')\n",
    "                            ])"
   ]
  },
  {
   "cell_type": "code",
   "execution_count": 19,
   "id": "fitted-stage",
   "metadata": {},
   "outputs": [],
   "source": [
    "model.compile(optimizer = 'adam', loss = 'sparse_categorical_crossentropy', metrics = ['accuracy'])"
   ]
  },
  {
   "cell_type": "code",
   "execution_count": 20,
   "id": "human-metro",
   "metadata": {},
   "outputs": [
    {
     "name": "stdout",
     "output_type": "stream",
     "text": [
      "Epoch 1/5\n",
      "540/540 [==============================] - 5s 7ms/step - loss: 0.6175 - accuracy: 0.8247 - val_loss: 0.1609 - val_accuracy: 0.9572\n",
      "Epoch 2/5\n",
      "540/540 [==============================] - 4s 7ms/step - loss: 0.1432 - accuracy: 0.9577 - val_loss: 0.1072 - val_accuracy: 0.9670\n",
      "Epoch 3/5\n",
      "540/540 [==============================] - 4s 7ms/step - loss: 0.1024 - accuracy: 0.9697 - val_loss: 0.0835 - val_accuracy: 0.9737\n",
      "Epoch 4/5\n",
      "540/540 [==============================] - 5s 8ms/step - loss: 0.0781 - accuracy: 0.9751 - val_loss: 0.0771 - val_accuracy: 0.9760\n",
      "Epoch 5/5\n",
      "540/540 [==============================] - 4s 7ms/step - loss: 0.0632 - accuracy: 0.9803 - val_loss: 0.0542 - val_accuracy: 0.9825\n"
     ]
    },
    {
     "data": {
      "text/plain": [
       "<tensorflow.python.keras.callbacks.History at 0x1489ac590>"
      ]
     },
     "execution_count": 20,
     "metadata": {},
     "output_type": "execute_result"
    }
   ],
   "source": [
    "num_epochs = 5\n",
    "\n",
    "model.fit(train_data, epochs = num_epochs, validation_data = (validation_inputs, validation_targets))"
   ]
  },
  {
   "cell_type": "code",
   "execution_count": 22,
   "id": "structural-welsh",
   "metadata": {},
   "outputs": [
    {
     "name": "stdout",
     "output_type": "stream",
     "text": [
      "1/1 [==============================] - 1s 910ms/step - loss: 0.0854 - accuracy: 0.9731\n"
     ]
    }
   ],
   "source": [
    "test_loss, test_accuracy = model.evaluate(test_data)"
   ]
  },
  {
   "cell_type": "code",
   "execution_count": null,
   "id": "blind-denver",
   "metadata": {},
   "outputs": [],
   "source": []
  }
 ],
 "metadata": {
  "kernelspec": {
   "display_name": "Python 3",
   "language": "python",
   "name": "python3"
  },
  "language_info": {
   "codemirror_mode": {
    "name": "ipython",
    "version": 3
   },
   "file_extension": ".py",
   "mimetype": "text/x-python",
   "name": "python",
   "nbconvert_exporter": "python",
   "pygments_lexer": "ipython3",
   "version": "3.7.9"
  }
 },
 "nbformat": 4,
 "nbformat_minor": 5
}
