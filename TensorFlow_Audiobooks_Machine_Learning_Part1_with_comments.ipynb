{
 "cells": [
  {
   "cell_type": "markdown",
   "metadata": {},
   "source": [
    "# Practical example. Audiobooks"
   ]
  },
  {
   "cell_type": "markdown",
   "metadata": {},
   "source": [
    "## Problem\n",
    "\n",
    "You are given data from an Audiobook app. Logically, it relates only to the audio versions of books. Each customer in the database has made a purchase at least once, that's why he/she is in the database. We want to create a machine learning algorithm based on our available data that can predict if a customer will buy again from the Audiobook company.\n",
    "\n",
    "The main idea is that if a customer has a low probability of coming back, there is no reason to spend any money on advertizing to him/her. If we can focus our efforts ONLY on customers that are likely to convert again, we can make great savings. Moreover, this model can identify the most important metrics for a customer to come back again. Identifying new customers creates value and growth opportunities.\n",
    "\n",
    "You have a .csv summarizing the data. There are several variables: Customer ID, Book length in mins_avg (average of all purchases), Book length in minutes_sum (sum of all purchases), Price Paid_avg (average of all purchases), Price paid_sum (sum of all purchases), Review (a Boolean variable), Review (out of 10), Total minutes listened, Completion (from 0 to 1), Support requests (number), and Last visited minus purchase date (in days).\n",
    "\n",
    "So these are the inputs (excluding customer ID, as it is completely arbitrary. It's more like a name, than a number).\n",
    "\n",
    "The targets are a Boolean variable (so 0, or 1). We are taking a period of 2 years in our inputs, and the next 6 months as targets. So, in fact, we are predicting if: based on the last 2 years of activity and engagement, a customer will convert in the next 6 months. 6 months sounds like a reasonable time. If they don't convert after 6 months, chances are they've gone to a competitor or didn't like the Audiobook way of digesting information. \n",
    "\n",
    "The task is simple: create a machine learning algorithm, which is able to predict if a customer will buy again. \n",
    "\n",
    "This is a classification problem with two classes: won't buy and will buy, represented by 0s and 1s. \n",
    "\n",
    "Good luck!"
   ]
  },
  {
   "cell_type": "markdown",
   "metadata": {},
   "source": [
    "## Create the machine learning algorithm\n",
    "\n"
   ]
  },
  {
   "cell_type": "markdown",
   "metadata": {},
   "source": [
    "### Import the relevant libraries"
   ]
  },
  {
   "cell_type": "code",
   "execution_count": 1,
   "metadata": {},
   "outputs": [],
   "source": [
    "# we must import the libraries once again since we haven't imported them in this file\n",
    "import numpy as np\n",
    "import tensorflow as tf"
   ]
  },
  {
   "cell_type": "markdown",
   "metadata": {},
   "source": [
    "### Data"
   ]
  },
  {
   "cell_type": "code",
   "execution_count": 2,
   "metadata": {},
   "outputs": [],
   "source": [
    "# let's create a temporary variable npz, where we will store each of the three Audiobooks datasets\n",
    "npz = np.load('Audiobooks_data_train.npz')\n",
    "\n",
    "# we extract the inputs using the keyword under which we saved them\n",
    "# to ensure that they are all floats, let's also take care of that\n",
    "train_inputs = npz['inputs'].astype(np.float)\n",
    "# targets must be int because of sparse_categorical_crossentropy (we want to be able to smoothly one-hot encode them)\n",
    "train_targets = npz['targets'].astype(np.int)\n",
    "\n",
    "# we load the validation data in the temporary variable\n",
    "npz = np.load('Audiobooks_data_validation.npz')\n",
    "# we can load the inputs and the targets in the same line\n",
    "validation_inputs, validation_targets = npz['inputs'].astype(np.float), npz['targets'].astype(np.int)\n",
    "\n",
    "# we load the test data in the temporary variable\n",
    "npz = np.load('Audiobooks_data_test.npz')\n",
    "# we create 2 variables that will contain the test inputs and the test targets\n",
    "test_inputs, test_targets = npz['inputs'].astype(np.float), npz['targets'].astype(np.int)"
   ]
  },
  {
   "cell_type": "code",
   "execution_count": 14,
   "metadata": {},
   "outputs": [
    {
     "data": {
      "text/plain": [
       "(3579, 10)"
      ]
     },
     "execution_count": 14,
     "metadata": {},
     "output_type": "execute_result"
    }
   ],
   "source": [
    "train_inputs.shape"
   ]
  },
  {
   "cell_type": "code",
   "execution_count": 16,
   "metadata": {},
   "outputs": [
    {
     "name": "stdout",
     "output_type": "stream",
     "text": [
      "Epoch 1/200\n",
      "36/36 - 1s - loss: 0.6281 - accuracy: 0.6236 - val_loss: 0.5478 - val_accuracy: 0.6846\n",
      "Epoch 2/200\n",
      "36/36 - 0s - loss: 0.4851 - accuracy: 0.7505 - val_loss: 0.4554 - val_accuracy: 0.7696\n",
      "Epoch 3/200\n",
      "36/36 - 0s - loss: 0.4240 - accuracy: 0.7851 - val_loss: 0.4154 - val_accuracy: 0.7808\n",
      "Epoch 4/200\n",
      "36/36 - 0s - loss: 0.3922 - accuracy: 0.7972 - val_loss: 0.3925 - val_accuracy: 0.7964\n",
      "Epoch 5/200\n",
      "36/36 - 0s - loss: 0.3753 - accuracy: 0.8008 - val_loss: 0.3902 - val_accuracy: 0.7763\n",
      "Epoch 6/200\n",
      "36/36 - 0s - loss: 0.3656 - accuracy: 0.8039 - val_loss: 0.3816 - val_accuracy: 0.7897\n",
      "Epoch 7/200\n",
      "36/36 - 0s - loss: 0.3562 - accuracy: 0.8055 - val_loss: 0.3742 - val_accuracy: 0.8031\n",
      "Epoch 8/200\n",
      "36/36 - 0s - loss: 0.3508 - accuracy: 0.8108 - val_loss: 0.3735 - val_accuracy: 0.8098\n",
      "Epoch 9/200\n",
      "36/36 - 0s - loss: 0.3479 - accuracy: 0.8145 - val_loss: 0.3706 - val_accuracy: 0.8076\n",
      "Epoch 10/200\n",
      "36/36 - 0s - loss: 0.3435 - accuracy: 0.8114 - val_loss: 0.3696 - val_accuracy: 0.8143\n",
      "Epoch 11/200\n",
      "36/36 - 0s - loss: 0.3412 - accuracy: 0.8153 - val_loss: 0.3641 - val_accuracy: 0.8076\n",
      "Epoch 12/200\n",
      "36/36 - 0s - loss: 0.3370 - accuracy: 0.8159 - val_loss: 0.3649 - val_accuracy: 0.8098\n",
      "Epoch 13/200\n",
      "36/36 - 0s - loss: 0.3374 - accuracy: 0.8175 - val_loss: 0.3645 - val_accuracy: 0.8210\n"
     ]
    },
    {
     "data": {
      "text/plain": [
       "<tensorflow.python.keras.callbacks.History at 0x143bc5450>"
      ]
     },
     "execution_count": 16,
     "metadata": {},
     "output_type": "execute_result"
    }
   ],
   "source": [
    "input_size = 10\n",
    "output_size = 2\n",
    "hidden_size = 50\n",
    "\n",
    "model = tf.keras.Sequential([tf.keras.layers.Dense(hidden_size, activation = 'relu'),\n",
    "                             tf.keras.layers.Dense(hidden_size, activation = 'relu'),\n",
    "                             tf.keras.layers.Dense(output_size, activation = 'softmax')\n",
    "                            ])\n",
    "\n",
    "batch_size = 100\n",
    "\n",
    "num_epochs = 200\n",
    "\n",
    "early_stop = tf.keras.callbacks.EarlyStopping(patience = 2)\n",
    "\n",
    "model.compile(optimizer = 'adam', loss = 'sparse_categorical_crossentropy', metrics = ['accuracy'])\n",
    "\n",
    "model.fit(train_inputs,\n",
    "          train_targets,\n",
    "          batch_size = batch_size,\n",
    "          epochs = num_epochs,\n",
    "          callbacks = [early_stop],\n",
    "          validation_data = (validation_inputs, validation_targets),\n",
    "          verbose = 2\n",
    "         )"
   ]
  },
  {
   "cell_type": "code",
   "execution_count": null,
   "metadata": {},
   "outputs": [],
   "source": []
  }
 ],
 "metadata": {
  "kernelspec": {
   "display_name": "Python 3",
   "language": "python",
   "name": "python3"
  },
  "language_info": {
   "codemirror_mode": {
    "name": "ipython",
    "version": 3
   },
   "file_extension": ".py",
   "mimetype": "text/x-python",
   "name": "python",
   "nbconvert_exporter": "python",
   "pygments_lexer": "ipython3",
   "version": "3.7.9"
  }
 },
 "nbformat": 4,
 "nbformat_minor": 2
}
